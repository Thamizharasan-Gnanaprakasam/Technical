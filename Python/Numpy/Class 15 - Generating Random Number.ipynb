{
 "cells": [
  {
   "cell_type": "code",
   "execution_count": 1,
   "id": "489c746a",
   "metadata": {},
   "outputs": [],
   "source": [
    "import numpy as np"
   ]
  },
  {
   "cell_type": "code",
   "execution_count": 2,
   "id": "708959e3",
   "metadata": {},
   "outputs": [
    {
     "data": {
      "text/plain": [
       "Generator(PCG64) at 0x109037920"
      ]
     },
     "execution_count": 2,
     "metadata": {},
     "output_type": "execute_result"
    }
   ],
   "source": [
    "rng = np.random.default_rng()\n",
    "\n",
    "rng"
   ]
  },
  {
   "cell_type": "code",
   "execution_count": 3,
   "id": "796d4146",
   "metadata": {},
   "outputs": [
    {
     "data": {
      "text/plain": [
       "array([[1, 1, 1],\n",
       "       [2, 1, 1]])"
      ]
     },
     "execution_count": 3,
     "metadata": {},
     "output_type": "execute_result"
    }
   ],
   "source": [
    "rng.integers(low=1, high=3,size=(2,3)) #High value will be excluded"
   ]
  },
  {
   "cell_type": "code",
   "execution_count": 4,
   "id": "15946a15",
   "metadata": {},
   "outputs": [
    {
     "data": {
      "text/plain": [
       "array([[3, 1, 2],\n",
       "       [1, 2, 2]])"
      ]
     },
     "execution_count": 4,
     "metadata": {},
     "output_type": "execute_result"
    }
   ],
   "source": [
    "rng.integers(low=1, high=3,size=(2,3), endpoint=True) #Includes High Value"
   ]
  },
  {
   "cell_type": "code",
   "execution_count": 7,
   "id": "3f02e806",
   "metadata": {},
   "outputs": [
    {
     "data": {
      "text/plain": [
       "array([[[0.6268186 , 0.78558409, 0.90429487, 0.15787746, 0.72177799,\n",
       "         0.58479129],\n",
       "        [0.524618  , 0.6050084 , 0.67451732, 0.21744836, 0.96634597,\n",
       "         0.93860168],\n",
       "        [0.80559852, 0.73204568, 0.39114312, 0.67417311, 0.65494662,\n",
       "         0.15625212]],\n",
       "\n",
       "       [[0.17731096, 0.12387119, 0.85531187, 0.24566009, 0.29081173,\n",
       "         0.05042214],\n",
       "        [0.00920707, 0.47933516, 0.3241051 , 0.08875689, 0.46210904,\n",
       "         0.85153256],\n",
       "        [0.77588448, 0.02082927, 0.28077425, 0.50244127, 0.70974949,\n",
       "         0.25269018]]])"
      ]
     },
     "execution_count": 7,
     "metadata": {},
     "output_type": "execute_result"
    }
   ],
   "source": [
    "rng.random(size=(2,3,6)) # get random float values between 0 and 1"
   ]
  },
  {
   "cell_type": "code",
   "execution_count": null,
   "id": "50cb5636",
   "metadata": {},
   "outputs": [],
   "source": []
  }
 ],
 "metadata": {
  "kernelspec": {
   "display_name": "Python 3 (ipykernel)",
   "language": "python",
   "name": "python3"
  },
  "language_info": {
   "codemirror_mode": {
    "name": "ipython",
    "version": 3
   },
   "file_extension": ".py",
   "mimetype": "text/x-python",
   "name": "python",
   "nbconvert_exporter": "python",
   "pygments_lexer": "ipython3",
   "version": "3.11.3"
  }
 },
 "nbformat": 4,
 "nbformat_minor": 5
}
